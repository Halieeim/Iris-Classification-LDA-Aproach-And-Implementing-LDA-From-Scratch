{
 "cells": [
  {
   "cell_type": "markdown",
   "id": "608c6c5d",
   "metadata": {},
   "source": [
    "# Import Libraries"
   ]
  },
  {
   "cell_type": "code",
   "execution_count": 1,
   "id": "512c5326",
   "metadata": {},
   "outputs": [],
   "source": [
    "import matplotlib.pyplot as plt\n",
    "import numpy as np\n",
    "import pandas as pd\n",
    "from sklearn.model_selection import train_test_split\n",
    "from sklearn.preprocessing import LabelEncoder\n",
    "from sklearn.discriminant_analysis import LinearDiscriminantAnalysis as LDA\n",
    "from sklearn.metrics import accuracy_score\n"
   ]
  },
  {
   "cell_type": "markdown",
   "id": "b9d93b19",
   "metadata": {},
   "source": [
    "# Loading and splitting Iris dataset"
   ]
  },
  {
   "cell_type": "code",
   "execution_count": 6,
   "id": "45943dfd",
   "metadata": {
    "scrolled": false
   },
   "outputs": [
    {
     "name": "stdout",
     "output_type": "stream",
     "text": [
      "(127, 4)\n",
      "(23, 4)\n",
      "(127,)\n",
      "(23,)\n"
     ]
    }
   ],
   "source": [
    "iris = pd.read_csv(\"iris.csv\")\n",
    "x = iris.iloc[:, 0:4].values\n",
    "y = iris.iloc[:,4].values\n",
    "y = LabelEncoder().fit_transform(y)\n",
    "#setosa     ==> 0\n",
    "#versicolor ==> 1\n",
    "#virginica  ==> 2\n",
    "\n",
    "x_train, x_test, y_train, y_test = train_test_split(x, y, test_size=0.15, random_state=85)\n",
    "print(x_train.shape)\n",
    "print(x_test.shape)\n",
    "print(y_train.shape)\n",
    "print(y_test.shape)\n"
   ]
  },
  {
   "cell_type": "code",
   "execution_count": 7,
   "id": "5872c8c0",
   "metadata": {},
   "outputs": [
    {
     "name": "stdout",
     "output_type": "stream",
     "text": [
      "Accuracy =  95.65217391304348 %\n"
     ]
    }
   ],
   "source": [
    "lda = LDA(n_components=2)\n",
    "lda.fit(x_train, y_train)\n",
    "\n",
    "prediction = lda.predict(x_test)\n",
    "print(\"Accuracy = \" , accuracy_score(y_test,prediction)*100 , \"%\")"
   ]
  },
  {
   "cell_type": "markdown",
   "id": "8fc40755",
   "metadata": {},
   "source": [
    "# Implementing LDA"
   ]
  },
  {
   "cell_type": "code",
   "execution_count": 20,
   "id": "aa2ce20f",
   "metadata": {},
   "outputs": [],
   "source": [
    "class linearDA:\n",
    "    def __init__(self, n_components):\n",
    "        self.n_components = n_components\n",
    "        self.w1 = None\n",
    "        self.w2 = None\n",
    "        self.w3 = None\n",
    "        self.linear_decremination = None\n",
    "        \n",
    "    def fit(self,x_t,y_t):\n",
    "        n_features = x_t.shape[1]\n",
    "        class_labels = np.unique(y_t)\n",
    "        \n",
    "        mean = np.mean(x_t,axis=0)\n",
    "        s_W = np.zeros((n_features,n_features))\n",
    "        s_b = np.zeros((n_features,n_features))\n",
    "        \n",
    "        for label in class_labels:\n",
    "            xc = x_t[y_t==label]\n",
    "            mean_c = np.mean(xc, axis=0)\n",
    "            s_w = 0\n",
    "            s_w += (xc - mean_c).T.dot(xc - mean_c)\n",
    "            nc = xc.shape[0]\n",
    "            mean_difference = (mean_c - mean).reshape(n_features, 1)\n",
    "            s_b += nc * mean_difference.dot(mean_difference.T)\n",
    "        \n",
    "            eigen_value = np.linalg.inv(s_w).dot(s_b)\n",
    "            eigenValues, eigenVectors = np.linalg.eig(eigen_value)\n",
    "            eigenVectors = eigenVectors.T\n",
    "            reverse_sorting = np.argsort(abs(eigenValues))[::-1]\n",
    "            eigenVectors = eigenVectors[reverse_sorting]\n",
    "            eigenValues = eigenValues[reverse_sorting]\n",
    "            self.linear_decremination = eigenVectors[0:self.n_components]\n",
    "            \n",
    "        #print(\"Linear_Discremenant_1\\n{}\\nLinear_Discremenant_2\\n{}\".format(self.linear_decremination[0].real, self.linear_decremination[1].real))\n",
    "        \n",
    "        b = np.arange(150).reshape(150,1)\n",
    "        for i in range(150):\n",
    "            for z in range(1):\n",
    "                b[i][0] = 1\n",
    "        \n",
    "        x_t1 = x        \n",
    "        x_t1 = np.append(x_t1, b, axis=1)\n",
    "        for i in range(50,150):\n",
    "            for j in range(5):\n",
    "                x_t1[i][j] = -1 * x_t1[i][j]\n",
    "                \n",
    "        self.w1 = np.linalg.inv(x_t1.T.dot(x_t1)).dot(x_t1.T.dot(b))\n",
    "        \n",
    "        ###############################################################\n",
    "        \n",
    "        x_t2 = x\n",
    "        x_t2 = np.append(x_t2, b, axis=1)\n",
    "        for i in range(50):\n",
    "            for j in range(5):\n",
    "                x_t2[i][j] = -1 * x_t2[i][j]\n",
    "        \n",
    "        for i in range(100,150):\n",
    "            for j in range(5):\n",
    "                x_t2[i][j] = -1 * x_t2[i][j]\n",
    "        \n",
    "        self.w2 = np.linalg.inv(x_t2.T.dot(x_t2)).dot(x_t2.T.dot(b))\n",
    "        \n",
    "        ################################################################\n",
    "        \n",
    "        x_t3 = x\n",
    "        x_t3 = np.append(x_t3, b, axis=1)\n",
    "\n",
    "        for i in range(100):\n",
    "            for j in range(5):\n",
    "                x_t3[i][j] = -1 * x_t3[i][j]\n",
    "        \n",
    "        self.w3 = np.linalg.inv(x_t3.T.dot(x_t3)).dot(x_t3.T.dot(b))\n",
    "        \n",
    "        \n",
    "    def transform(self,x):\n",
    "        return np.dot(x, self.linear_decremination.T)\n",
    "    \n",
    "    def predict(self,test):\n",
    "        count = 0\n",
    "        c = 0\n",
    "        predicts = []\n",
    "        for n in test:\n",
    "            e1 = self.w1[0]*n[0] + self.w1[1]*n[1] + self.w1[2]*n[2] + self.w1[3]*n[3] + self.w1[4]\n",
    "            e2 = self.w2[0]*n[0] + self.w2[1]*n[1] + self.w2[2]*n[2] + self.w2[3]*n[3] + self.w2[4]\n",
    "            e3 = self.w3[0]*n[0] + self.w3[1]*n[1] + self.w3[2]*n[2] + self.w3[3]*n[3] + self.w3[4]\n",
    "            \n",
    "            if e1 > 0 and e2 < 0 and e3 < 0:\n",
    "                predicts.append(0)\n",
    "                if y_test[c] == 0:\n",
    "                    count += 1\n",
    "                else:\n",
    "                    print(n, \" Wrong Classification!!!\")\n",
    "            \n",
    "            elif e1 < 0 and e2 > 0 and e3 < 0:\n",
    "                predicts.append(1)\n",
    "                if y_test[c] == 1:\n",
    "                    count += 1\n",
    "                else:\n",
    "                    print(n, \" Wrong Classification!!!\")\n",
    "                \n",
    "            elif e1 < 0 and e2 < 0 and e3 > 0:\n",
    "                predicts.append(2)\n",
    "                if y_test[c] == 2:\n",
    "                    count += 1\n",
    "                else:\n",
    "                    print(n, \" Wrong Classification!!!\")\n",
    "                \n",
    "            elif e1 < 0 and e2 < 0 and e3 < 0:\n",
    "                print(n,\" New classification\")\n",
    "                predicts.append(1)\n",
    "                if y_test[c] == 1:\n",
    "                    count += 1\n",
    "                else:\n",
    "                    print(n, \" Wrong Classification!!!\")\n",
    "                \n",
    "            else:\n",
    "                print(n,\" Undetermined sample\")\n",
    "                predicts.append(2)\n",
    "                if y_test[c] == 2:\n",
    "                    count += 1\n",
    "                else:\n",
    "                    print(n, \" Wrong Classification!!!\")\n",
    "            \n",
    "            c += 1\n",
    "        \n",
    "        predicts = np.array(predicts)\n",
    "        \n",
    "        return count/test.shape[0]\n",
    "    \n",
    "        \n",
    "        "
   ]
  },
  {
   "cell_type": "code",
   "execution_count": 21,
   "id": "8824eecc",
   "metadata": {
    "scrolled": false
   },
   "outputs": [
    {
     "name": "stdout",
     "output_type": "stream",
     "text": [
      "[6.3 2.5 5.  1.9]  Undetermined sample\n",
      "[5.6 3.  4.1 1.3]  New classification\n",
      "[5.9 3.2 4.8 1.8]  Wrong Classification!!!\n",
      "[6.4 2.9 4.3 1.3]  New classification\n",
      "[4.5 2.3 1.3 0.3]  Undetermined sample\n",
      "[4.5 2.3 1.3 0.3]  Wrong Classification!!!\n",
      "\n",
      "Accuracy =  91.30434782608695 %\n"
     ]
    },
    {
     "data": {
      "image/png": "[encoded data removed]",
      "text/plain": [
       "<Figure size 504x432 with 1 Axes>"
      ]
     },
     "metadata": {
      "needs_background": "light"
     },
     "output_type": "display_data"
    }
   ],
   "source": [
    "classifier = linearDA(2)\n",
    "classifier.fit(x_train, y_train)\n",
    "X = classifier.transform(x)\n",
    "prediction = classifier.predict(x_test)\n",
    "print(\"\\nAccuracy = \", prediction*100, \"%\")\n",
    "\n",
    "plt.figure(figsize=[7,6])\n",
    "colors = ['red', 'green', 'blue']\n",
    "for color, i, target_name in zip(colors, [0, 1, 2], [\"setosa\",\"versicolor\",\"virginica\"]):\n",
    "    plt.scatter(X[y == i, 0], X[y == i, 1], alpha=0.8, color=color, label=target_name)\n",
    "\n",
    "plt.legend(loc='upper center', shadow=True, scatterpoints=1)\n",
    "plt.gca().invert_xaxis()\n",
    "plt.show()\n"
   ]
  },
  {
   "cell_type": "markdown",
   "id": "e0975418",
   "metadata": {},
   "source": [
    ">## Built in LDA is more accurate than our implementation of LDA\n",
    ">>### Built in LDA accuracy = 95.65217391304348 %\n",
    ">>\n",
    ">>### Our LDA accuracy = 91.30434782608695 %"
   ]
  }
 ],
 "metadata": {
  "kernelspec": {
   "display_name": "Python 3 (ipykernel)",
   "language": "python",
   "name": "python3"
  },
  "language_info": {
   "codemirror_mode": {
    "name": "ipython",
    "version": 3
   },
   "file_extension": ".py",
   "mimetype": "text/x-python",
   "name": "python",
   "nbconvert_exporter": "python",
   "pygments_lexer": "ipython3",
   "version": "3.9.7"
  }
 },
 "nbformat": 4,
 "nbformat_minor": 5
}
